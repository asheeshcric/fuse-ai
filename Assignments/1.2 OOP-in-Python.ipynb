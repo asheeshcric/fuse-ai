{
 "cells": [
  {
   "cell_type": "markdown",
   "metadata": {
    "deletable": false,
    "editable": false,
    "nbgrader": {
     "checksum": "309a3ba5ce59242c851ba05ae8de207f",
     "grade": false,
     "grade_id": "cell-2dce2716070d680f",
     "locked": true,
     "schema_version": 1,
     "solution": false
    }
   },
   "source": [
    "## Assignment 1.2 Python Classes"
   ]
  },
  {
   "cell_type": "markdown",
   "metadata": {
    "deletable": false,
    "editable": false,
    "nbgrader": {
     "checksum": "2b1e1b2ffc210ed77f6ae32374302fc1",
     "grade": false,
     "grade_id": "cell-706c679697b07648",
     "locked": true,
     "schema_version": 1,
     "solution": false
    }
   },
   "source": [
    "https://docs.python.org/3/tutorial/classes.html"
   ]
  },
  {
   "cell_type": "markdown",
   "metadata": {
    "deletable": false,
    "editable": false,
    "nbgrader": {
     "checksum": "773a462e3acf0309a12ecd30fcf62487",
     "grade": false,
     "grade_id": "cell-1052f25f3783f2ab",
     "locked": true,
     "schema_version": 1,
     "solution": false
    }
   },
   "source": [
    "- The constructor is always written as a function called __init__()\n",
    "- It must always take as its first argument a **reference to the instance** being constructed\n",
    "- Single underscore before a member variable denotes it protected and double underscore denotes it private but it is just a convention"
   ]
  },
  {
   "cell_type": "markdown",
   "metadata": {
    "deletable": false,
    "editable": false,
    "nbgrader": {
     "checksum": "3a2b7f0b89b6e466ee8d2c1b6b8af4e4",
     "grade": false,
     "grade_id": "cell-a4d8f6ba25b7cae7",
     "locked": true,
     "schema_version": 1,
     "solution": false
    }
   },
   "source": [
    "Create a Class Rectangle such that its objects are initialized with its length and breadth.\n",
    "Make two class methods get_area and get_perimeter which calculates and return the area and circumference respectively"
   ]
  },
  {
   "cell_type": "code",
   "execution_count": 30,
   "metadata": {
    "deletable": false,
    "nbgrader": {
     "checksum": "a95e628edc126d2280b0ba71733706b1",
     "grade": false,
     "grade_id": "cell-7b9cb67eee934ad9",
     "locked": false,
     "schema_version": 1,
     "solution": true
    }
   },
   "outputs": [],
   "source": [
    "class Rectangle():\n",
    "# Your code here\n",
    "    def __init__(self, length, breadth):\n",
    "        self.length = length\n",
    "        self.breadth = breadth\n",
    "\n",
    "    def get_area(self):\n",
    "    # Code here\n",
    "        return self.length * self.breadth\n",
    "\n",
    "    def get_perimeter(self):\n",
    "    #Code here\n",
    "        return 2 * (self.length + self. breadth)\n",
    "\n",
    "# YOUR CODE HERE\n",
    "    def __str__(self):\n",
    "        return \"Rectangle(length={}, breadth={})\".format(self.length, self.breadth)\n",
    "    \n",
    "    # Operator overloading dunder methods\n",
    "    def __eq__(self, other):\n",
    "        return self.get_area() == other.get_area()\n",
    "    \n",
    "    def __gt__(self, other):\n",
    "        return self.get_area() > other.get_area()\n",
    "\n",
    "    def __lt__(self, other):\n",
    "        return self.get_area() < other.get_area()\n",
    "\n",
    "    def __ge__(self, other):\n",
    "        return self.get_area() >= other.get_area()\n",
    "\n",
    "    def __le__(self, other):\n",
    "        return self.get_area() <= other.get_area()\n",
    "\n",
    "    def __ne__(self, other):\n",
    "        return self.get_area() != other.get_area()"
   ]
  },
  {
   "cell_type": "code",
   "execution_count": 31,
   "metadata": {
    "deletable": false,
    "editable": false,
    "nbgrader": {
     "checksum": "b217767700e37dc55ac33a5cf80cc648",
     "grade": true,
     "grade_id": "cell-513c46a34a22e61e",
     "locked": true,
     "points": 1,
     "schema_version": 1,
     "solution": false
    }
   },
   "outputs": [],
   "source": [
    "rec1 = Rectangle(4,10)\n",
    "assert(rec1.get_area() == 40)"
   ]
  },
  {
   "cell_type": "markdown",
   "metadata": {
    "deletable": false,
    "editable": false,
    "nbgrader": {
     "checksum": "b6bef5008ce0faaf861cd32767575bd1",
     "grade": false,
     "grade_id": "cell-371a06bffe4d1a2d",
     "locked": true,
     "schema_version": 1,
     "solution": false
    }
   },
   "source": [
    "### Magic Methods or Dunder methods\n",
    "[Python Special Methods](https://docs.python.org/3/reference/datamodel.html#special-method-names)"
   ]
  },
  {
   "cell_type": "code",
   "execution_count": 32,
   "metadata": {
    "deletable": false,
    "nbgrader": {
     "checksum": "1f3fd629f011bc95038d63788e7f5524",
     "grade": false,
     "grade_id": "cell-bcdd2ef93e91a97a",
     "locked": false,
     "schema_version": 1,
     "solution": true
    }
   },
   "outputs": [
    {
     "name": "stdout",
     "output_type": "stream",
     "text": [
      "Rectangle(length=4, breadth=10)\n"
     ]
    }
   ],
   "source": [
    "# Modify the Rectangle class to print object as \"Rectangle(length=a, breadth=b)\"\n",
    "# where a and b are length and breadth \n",
    "\n",
    "# YOUR CODE HERE\n",
    "print(rec1)"
   ]
  },
  {
   "cell_type": "code",
   "execution_count": null,
   "metadata": {
    "deletable": false,
    "editable": false,
    "nbgrader": {
     "checksum": "94057ed3472072479b463f6fe9505312",
     "grade": true,
     "grade_id": "cell-962a216ebf3b2ffd",
     "locked": true,
     "points": 1,
     "schema_version": 1,
     "solution": false
    }
   },
   "outputs": [],
   "source": []
  },
  {
   "cell_type": "code",
   "execution_count": 34,
   "metadata": {
    "deletable": false,
    "nbgrader": {
     "checksum": "c428f8fdf4661af7301ff7d9f2f0a54d",
     "grade": false,
     "grade_id": "cell-8d1bcf7bdbbedf55",
     "locked": false,
     "schema_version": 1,
     "solution": true
    }
   },
   "outputs": [
    {
     "name": "stdout",
     "output_type": "stream",
     "text": [
      "False\n",
      "True\n",
      "False\n",
      "True\n",
      "False\n",
      "True\n"
     ]
    }
   ],
   "source": [
    "# Modify rectangle class to compare rectangle objects (comparing with areas) \n",
    "# Operator overloading of rich comparisons = ,> ,< ,<= ,>= ,!= , \n",
    "\n",
    "# YOUR CODE HERE\n",
    "rect1 = Rectangle(1, 3)\n",
    "rect2 = Rectangle(1, 2)\n",
    "\n",
    "print(rect1 == rect2)\n",
    "print(rect1 > rect2)\n",
    "print(rect1 < rect2)\n",
    "print(rect1 >= rect2)\n",
    "print(rect1 <= rect2)\n",
    "print(rect1 != rect2)"
   ]
  },
  {
   "cell_type": "code",
   "execution_count": 35,
   "metadata": {
    "deletable": false,
    "editable": false,
    "nbgrader": {
     "checksum": "26b9383febd195ae1d1c86b62b85b1de",
     "grade": true,
     "grade_id": "cell-5f2f866622093343",
     "locked": true,
     "points": 1,
     "schema_version": 1,
     "solution": false
    }
   },
   "outputs": [],
   "source": [
    "assert(Rectangle(3,10)==Rectangle(3,10))\n",
    "assert(Rectangle(2,10)<Rectangle(3,10))\n",
    "assert(Rectangle(3,10)!=Rectangle(2,10))\n",
    "assert(Rectangle(3,10)>=Rectangle(3,10))"
   ]
  },
  {
   "cell_type": "markdown",
   "metadata": {
    "deletable": false,
    "editable": false,
    "nbgrader": {
     "checksum": "9542ed87a4b7d3715f58ffd0529ecefb",
     "grade": false,
     "grade_id": "cell-34a1737b2a51850b",
     "locked": true,
     "schema_version": 1,
     "solution": false
    }
   },
   "source": [
    "### Inheritance"
   ]
  },
  {
   "cell_type": "markdown",
   "metadata": {
    "deletable": false,
    "editable": false,
    "nbgrader": {
     "checksum": "f91399da16138fa2599ee1d7d2046606",
     "grade": false,
     "grade_id": "cell-2ab070ec875982c5",
     "locked": true,
     "schema_version": 1,
     "solution": false
    }
   },
   "source": [
    "Derive a class **Square** from **Rectangle** with one properties \"length\" (initialized through constructor) and able to calculate area, perimeter and comparison"
   ]
  },
  {
   "cell_type": "code",
   "execution_count": 38,
   "metadata": {
    "deletable": false,
    "nbgrader": {
     "checksum": "7afa7613628113e11738ab427c04bbc7",
     "grade": false,
     "grade_id": "cell-92fe1c73a1a02948",
     "locked": false,
     "schema_version": 1,
     "solution": true
    }
   },
   "outputs": [],
   "source": [
    "class Square(Rectangle):\n",
    "\n",
    "# YOUR CODE HERE\n",
    "    def __init__(self, length):\n",
    "        self.length = length\n",
    "        self.breadth = length"
   ]
  },
  {
   "cell_type": "code",
   "execution_count": 39,
   "metadata": {
    "deletable": false,
    "editable": false,
    "nbgrader": {
     "checksum": "79a977234acc06775cce58ee4290d639",
     "grade": true,
     "grade_id": "cell-28da33eb75674da3",
     "locked": true,
     "points": 1,
     "schema_version": 1,
     "solution": false
    }
   },
   "outputs": [],
   "source": [
    "assert(Square(9).get_area()==81)\n",
    "assert(Square(10) != Square(5))"
   ]
  }
 ],
 "metadata": {
  "kernelspec": {
   "display_name": "Python 3",
   "language": "python",
   "name": "python3"
  },
  "language_info": {
   "codemirror_mode": {
    "name": "ipython",
    "version": 3
   },
   "file_extension": ".py",
   "mimetype": "text/x-python",
   "name": "python",
   "nbconvert_exporter": "python",
   "pygments_lexer": "ipython3",
   "version": "3.6.6"
  }
 },
 "nbformat": 4,
 "nbformat_minor": 2
}
