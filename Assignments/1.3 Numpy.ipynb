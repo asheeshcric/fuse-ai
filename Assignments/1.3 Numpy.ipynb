{
 "cells": [
  {
   "cell_type": "markdown",
   "metadata": {
    "deletable": false,
    "editable": false,
    "nbgrader": {
     "checksum": "ef5e90346f4519987224082120a1d4dc",
     "grade": false,
     "grade_id": "cell-5e7870b6dfa75a5c",
     "locked": true,
     "schema_version": 1,
     "solution": false
    }
   },
   "source": [
    "## Assignment 1.3 Numpy\n",
    "Numpy is a library for the Python programming language, adding support for large, multi-dimensional arrays and matrices, along with a large collection of high-level mathematical functions to operate on these arrays. \n",
    "[Numpy Official Documentation](http://www.numpy.org/)"
   ]
  },
  {
   "cell_type": "code",
   "execution_count": 2,
   "metadata": {
    "deletable": false,
    "nbgrader": {
     "checksum": "e73e7be1f2c5cd060cc3ce5f4dbe4968",
     "grade": false,
     "grade_id": "cell-407e2d60461b23e6",
     "locked": false,
     "schema_version": 1,
     "solution": true
    }
   },
   "outputs": [],
   "source": [
    "# Import Numpy\n",
    "\n",
    "# YOUR CODE HERE\n",
    "import numpy as np"
   ]
  },
  {
   "cell_type": "code",
   "execution_count": null,
   "metadata": {
    "deletable": false,
    "editable": false,
    "nbgrader": {
     "checksum": "97a19374ee8659e4c921fdbb20aa0934",
     "grade": true,
     "grade_id": "cell-c5ae32b83b1d3fbc",
     "locked": true,
     "points": 1,
     "schema_version": 1,
     "solution": false
    }
   },
   "outputs": [],
   "source": []
  },
  {
   "cell_type": "markdown",
   "metadata": {
    "deletable": false,
    "editable": false,
    "nbgrader": {
     "checksum": "a3dfe46d370e524d11987e811bd0a3bd",
     "grade": false,
     "grade_id": "cell-0459419e6baf5e11",
     "locked": true,
     "schema_version": 1,
     "solution": false
    }
   },
   "source": [
    "NumPy’s main object is the homogeneous multidimensional array. It is a table of elements (usually numbers), all of the same type, indexed by a tuple of positive integers.\n",
    "\n",
    "Go through [this quick tutorial](https://docs.scipy.org/doc/numpy/user/quickstart.html) to get started."
   ]
  },
  {
   "cell_type": "code",
   "execution_count": 3,
   "metadata": {
    "deletable": false,
    "nbgrader": {
     "checksum": "9e5c54dd7a35f9fdd76863e9654370b3",
     "grade": false,
     "grade_id": "cell-e21e5e2a23f7260c",
     "locked": false,
     "schema_version": 1,
     "solution": true
    }
   },
   "outputs": [
    {
     "name": "stdout",
     "output_type": "stream",
     "text": [
      "(array([0, 0, 0, 1, 1, 2, 3, 3]), array([0, 1, 2, 1, 2, 1, 0, 1]))\n"
     ]
    }
   ],
   "source": [
    "# Find indices of non-zero elements from A as array of X-coordinates and Y-coordinates \n",
    "# and store it in variable \"indices\"\n",
    "# nonzero function could be useful\n",
    "A = np.array([[1,4,2],[0,5,7],[0,4,0],[1,2,0]])\n",
    "indices = None\n",
    "# YOUR CODE HERE\n",
    "indices = np.nonzero(A)\n",
    "print(indices)"
   ]
  },
  {
   "cell_type": "code",
   "execution_count": null,
   "metadata": {
    "deletable": false,
    "editable": false,
    "nbgrader": {
     "checksum": "801f14109529099c11d9a593dfdde823",
     "grade": true,
     "grade_id": "cell-4734df5d6d726bbe",
     "locked": true,
     "points": 1,
     "schema_version": 1,
     "solution": false
    }
   },
   "outputs": [],
   "source": []
  },
  {
   "cell_type": "markdown",
   "metadata": {
    "deletable": false,
    "editable": false,
    "nbgrader": {
     "checksum": "137e3f5b7852cfdf032e39591b859d04",
     "grade": false,
     "grade_id": "cell-104e16e09805a0e5",
     "locked": true,
     "schema_version": 1,
     "solution": false
    }
   },
   "source": [
    "### Random Number Generation\n",
    "The use of randomness is an important part of the configuration and evaluation of machine learning algorithms.\n",
    "\n",
    "From the random initialization of weights in an artificial neural network, to the splitting of data into random train and test sets, to the random shuffling of a training dataset in stochastic gradient descent, generating random numbers and harnessing randomness is a required skill.\n",
    "\n",
    "Check out: [Numpy Random Routines](https://docs.scipy.org/doc/numpy-1.15.1/reference/routines.random.html)\n",
    "\n",
    "Try to learn about\n",
    "- Random Int, Float Generation\n",
    "- Seed\n",
    "- Normal or Gaussian Distribution\n",
    "- Shuffle NumPy Array"
   ]
  },
  {
   "cell_type": "code",
   "execution_count": 16,
   "metadata": {
    "deletable": false,
    "nbgrader": {
     "checksum": "7ca21627a06db6913d3593b21d92bf54",
     "grade": false,
     "grade_id": "cell-d9de39c7298f8a33",
     "locked": false,
     "schema_version": 1,
     "solution": true
    }
   },
   "outputs": [
    {
     "name": "stdout",
     "output_type": "stream",
     "text": [
      "[[ 0.07630829  0.77991879  0.43840923  0.72346518  0.97798951  0.53849587\n",
      "   0.50112046  0.07205113  0.26843898  0.4998825 ]\n",
      " [ 0.67923     0.80373904  0.38094113  0.06593635  0.2881456   0.90959353\n",
      "   0.21338535  0.45212396  0.93120602  0.02489923]\n",
      " [ 0.60054892  0.9501295   0.23030288  0.54848992  0.90912837  0.13316945\n",
      "   0.52341258  0.75040986  0.66901324  0.46775286]\n",
      " [ 0.20484909  0.49076589  0.37238469  0.47740115  0.36589039  0.83791799\n",
      "   0.76864751  0.31399468  0.57262533  0.27604905]\n",
      " [ 0.45284293  0.35297837  0.65739946  0.37035108  0.45909298  0.71932412\n",
      "   0.41299183  0.90642327  0.18045162  0.74111887]\n",
      " [ 0.42237404  0.42645357  0.63437987  0.5229062   0.41488598  0.00142688\n",
      "   0.09226235  0.70939439  0.5243456   0.69616046]\n",
      " [ 0.95546832  0.68291385  0.05312869  0.30885268  0.59259469  0.23512041\n",
      "   0.964971    0.94504822  0.84840088  0.472324  ]\n",
      " [ 0.84147671  0.13111064  0.30873366  0.46299639  0.7418472   0.48582523\n",
      "   0.13687612  0.34353653  0.32442617  0.3004189 ]\n",
      " [ 0.1655014   0.41490177  0.44812066  0.77490038  0.7963907   0.52239013\n",
      "   0.4606303   0.7782136   0.88728895  0.67491877]\n",
      " [ 0.80047905  0.93911135  0.04065581  0.87567172  0.27656307  0.4757645\n",
      "   0.79676096  0.71724223  0.14714757  0.65874826]\n",
      " [ 0.06925207  0.35707063  0.81282955  0.42770483  0.59985444  0.72816128\n",
      "   0.82122761  0.76051512  0.00714328  0.42025683]\n",
      " [ 0.46313622  0.0554995   0.54144213  0.60777075  0.82845319  0.94180927\n",
      "   0.12814785  0.23043067  0.6591584   0.13247399]\n",
      " [ 0.22407864  0.57486259  0.16952372  0.78223015  0.85697563  0.0336742\n",
      "   0.5326448   0.79695136  0.97513968  0.27425859]\n",
      " [ 0.16910106  0.87670093  0.90918246  0.19753289  0.44152974  0.71923214\n",
      "   0.84534516  0.16827531  0.66496896  0.80783546]\n",
      " [ 0.54971412  0.16471666  0.0355288   0.28153382  0.80787085  0.04476626\n",
      "   0.00821651  0.36161665  0.06362229  0.1494863 ]\n",
      " [ 0.02319037  0.52471984  0.6966959   0.42705349  0.13457046  0.33135721\n",
      "   0.59034585  0.94066139  0.99255772  0.24160292]\n",
      " [ 0.01057991  0.83064033  0.92661294  0.45860348  0.77144234  0.86619903\n",
      "   0.6096148   0.87262718  0.02390303  0.27159522]\n",
      " [ 0.27721958  0.12063243  0.91071345  0.03043927  0.67256103  0.07133969\n",
      "   0.36078049  0.41809954  0.18140429  0.5210141 ]\n",
      " [ 0.53499176  0.31704388  0.73708806  0.16020241  0.19250822  0.35451102\n",
      "   0.37837613  0.20628586  0.91870921  0.82809357]\n",
      " [ 0.10687674  0.36948592  0.2326711   0.4510786   0.27631719  0.50180689\n",
      "   0.92260315  0.38251114  0.65012833  0.59562111]]\n"
     ]
    }
   ],
   "source": [
    "# create a 20X10 matrix of random numbers using seed = 7 and store it in B\n",
    "seed = 7\n",
    "B = None\n",
    "# YOUR CODE HERE\n",
    "np.random.seed(7)\n",
    "B = np.random.rand(20, 10)\n",
    "print(B)"
   ]
  },
  {
   "cell_type": "code",
   "execution_count": null,
   "metadata": {
    "deletable": false,
    "editable": false,
    "nbgrader": {
     "checksum": "5da123ddc4b7593e1fd403203d18da2e",
     "grade": true,
     "grade_id": "cell-fdf9824a430587c0",
     "locked": true,
     "points": 1,
     "schema_version": 1,
     "solution": false
    }
   },
   "outputs": [],
   "source": []
  },
  {
   "cell_type": "markdown",
   "metadata": {
    "deletable": false,
    "editable": false,
    "nbgrader": {
     "checksum": "59a43997e80c9f1abfa37fbfdf680511",
     "grade": false,
     "grade_id": "cell-a75aa43bd46c6fc9",
     "locked": true,
     "schema_version": 1,
     "solution": false
    }
   },
   "source": [
    "### Reshaping\n",
    "Machine learning data is generally represented as numpy arrays. Many times such data needs to be reshaped into another shape. Such as a 2-Dimensional array might be required to be changed to 1-Dimensional."
   ]
  },
  {
   "cell_type": "code",
   "execution_count": 18,
   "metadata": {
    "deletable": false,
    "nbgrader": {
     "checksum": "ca6664bb66e60e34248431982f3e6c6e",
     "grade": false,
     "grade_id": "cell-765efc861e170c4d",
     "locked": false,
     "schema_version": 1,
     "solution": true
    }
   },
   "outputs": [],
   "source": [
    "# Reshape the matrix B into 10X20 matrix and store it in C\n",
    "C = None\n",
    "# YOUR CODE HERE\n",
    "C = B.reshape(10, 20)"
   ]
  },
  {
   "cell_type": "code",
   "execution_count": 15,
   "metadata": {
    "deletable": false,
    "editable": false,
    "nbgrader": {
     "checksum": "0453ac9ea7be44b3b13a33fbfd16f48b",
     "grade": true,
     "grade_id": "cell-2b07046cbadab284",
     "locked": true,
     "points": 1,
     "schema_version": 1,
     "solution": false
    }
   },
   "outputs": [],
   "source": [
    "assert(C.shape == (10,20))"
   ]
  },
  {
   "cell_type": "markdown",
   "metadata": {
    "deletable": false,
    "editable": false,
    "nbgrader": {
     "checksum": "50fcddf0dd35458aff53a5fa5dfb25b7",
     "grade": false,
     "grade_id": "cell-87805fdaf1211860",
     "locked": true,
     "schema_version": 1,
     "solution": false
    }
   },
   "source": [
    "Perform Matrix multiplication between B and C\n",
    "$$\n",
    "Prod = B \\cdot C\n",
    "$$"
   ]
  },
  {
   "cell_type": "code",
   "execution_count": 19,
   "metadata": {
    "deletable": false,
    "nbgrader": {
     "checksum": "4e306445af69a4b1a83323a4a6e4004a",
     "grade": false,
     "grade_id": "cell-fc5b00521b726684",
     "locked": false,
     "schema_version": 1,
     "solution": true
    }
   },
   "outputs": [],
   "source": [
    "Prod = None\n",
    "# YOUR CODE HERE\n",
    "Prod = np.dot(B, C)"
   ]
  },
  {
   "cell_type": "code",
   "execution_count": null,
   "metadata": {
    "deletable": false,
    "editable": false,
    "nbgrader": {
     "checksum": "94ad762e4b7292a1342eb582f1f60d04",
     "grade": true,
     "grade_id": "cell-3a3d1357d470fa3e",
     "locked": true,
     "points": 1,
     "schema_version": 1,
     "solution": false
    }
   },
   "outputs": [],
   "source": []
  },
  {
   "cell_type": "markdown",
   "metadata": {
    "deletable": false,
    "editable": false,
    "nbgrader": {
     "checksum": "dcee238b54be63f0945575d86afe9b01",
     "grade": false,
     "grade_id": "cell-8f0222a161e3e5c0",
     "locked": true,
     "schema_version": 1,
     "solution": false
    }
   },
   "source": [
    "Calculate A squared\n",
    "$$\n",
    "A^2 = A \\cdot A^T\n",
    "$$"
   ]
  },
  {
   "cell_type": "code",
   "execution_count": 21,
   "metadata": {
    "deletable": false,
    "nbgrader": {
     "checksum": "cc557026eec630187151b01ad6670040",
     "grade": false,
     "grade_id": "cell-696b88e57b529140",
     "locked": false,
     "schema_version": 1,
     "solution": true
    }
   },
   "outputs": [],
   "source": [
    "A_sq = None\n",
    "# YOUR CODE HERE\n",
    "A_sq = np.dot(A, A.transpose())"
   ]
  },
  {
   "cell_type": "code",
   "execution_count": null,
   "metadata": {
    "deletable": false,
    "editable": false,
    "nbgrader": {
     "checksum": "016dc416425d9d84dc435a5ba9fff108",
     "grade": true,
     "grade_id": "cell-f6ad93fe17f1e87b",
     "locked": true,
     "points": 1,
     "schema_version": 1,
     "solution": false
    }
   },
   "outputs": [],
   "source": []
  },
  {
   "cell_type": "code",
   "execution_count": 23,
   "metadata": {
    "deletable": false,
    "nbgrader": {
     "checksum": "b05f28915e026e7926fc56bee7f7f7da",
     "grade": false,
     "grade_id": "cell-367f5a191fdac5f1",
     "locked": false,
     "schema_version": 1,
     "solution": true
    }
   },
   "outputs": [],
   "source": [
    "#concatenation\n",
    "A = np.array([[1,2],[3,4]]) \n",
    "B = np.array([[5,6],[7,8]]) \n",
    "# Concate A and B vertically\n",
    "concatenated = None\n",
    "# YOUR CODE HERE\n",
    "concatenated = np.vstack((A, B))"
   ]
  },
  {
   "cell_type": "code",
   "execution_count": null,
   "metadata": {
    "deletable": false,
    "editable": false,
    "nbgrader": {
     "checksum": "f0754394ed8c9c7dbce93f90bcfc111d",
     "grade": true,
     "grade_id": "cell-2b56e9185f1bcea0",
     "locked": true,
     "points": 1,
     "schema_version": 1,
     "solution": false
    }
   },
   "outputs": [],
   "source": []
  },
  {
   "cell_type": "markdown",
   "metadata": {
    "deletable": false,
    "editable": false,
    "nbgrader": {
     "checksum": "bf565e877fef922602fab573ecc74d98",
     "grade": false,
     "grade_id": "cell-a9f72f15b5639574",
     "locked": true,
     "schema_version": 1,
     "solution": false
    }
   },
   "source": [
    "Write a function that given inputs X and y returns theta as follows:\n",
    "$$\n",
    "theta = (X^{T}X)^{-1}X^{T}y\n",
    "$$\n",
    "where,\n",
    "- X is a ndarray of size M X N\n",
    "- y is a ndarray of size M X 1\n",
    "Please go through linalg routines of numpy to solve this problem.\n",
    "https://docs.scipy.org/doc/numpy/reference/routines.linalg.html\n",
    "\n",
    "This is Normal Equation for [Ordinary Least Square](https://en.wikipedia.org/wiki/Ordinary_least_squares)."
   ]
  },
  {
   "cell_type": "code",
   "execution_count": 25,
   "metadata": {
    "deletable": false,
    "nbgrader": {
     "checksum": "fe4b61b76e16e416a8d6d731152cb5c8",
     "grade": false,
     "grade_id": "cell-0790ab535a2aad5c",
     "locked": false,
     "schema_version": 1,
     "solution": true
    }
   },
   "outputs": [
    {
     "data": {
      "text/plain": [
       "array([[-4. ],\n",
       "       [ 4.5]])"
      ]
     },
     "execution_count": 25,
     "metadata": {},
     "output_type": "execute_result"
    }
   ],
   "source": [
    "def f(X, y):\n",
    "    # YOUR CODE HERE\n",
    "    theta = np.dot(np.dot(np.linalg.inv(np.dot(X.transpose(), X)), X.transpose()), y)\n",
    "    return theta\n",
    "\n",
    "X = np.array([[1, 2], [3, 4]])\n",
    "y = np.array([[5], [6]])\n",
    "f(X, y)"
   ]
  },
  {
   "cell_type": "code",
   "execution_count": null,
   "metadata": {
    "deletable": false,
    "editable": false,
    "nbgrader": {
     "checksum": "4bae481b866ff54191a2e57cc7f4db14",
     "grade": true,
     "grade_id": "cell-8815f55c00de7ca5",
     "locked": true,
     "points": 1,
     "schema_version": 1,
     "solution": false
    }
   },
   "outputs": [],
   "source": []
  }
 ],
 "metadata": {
  "kernelspec": {
   "display_name": "Python 3",
   "language": "python",
   "name": "python3"
  },
  "language_info": {
   "codemirror_mode": {
    "name": "ipython",
    "version": 3
   },
   "file_extension": ".py",
   "mimetype": "text/x-python",
   "name": "python",
   "nbconvert_exporter": "python",
   "pygments_lexer": "ipython3",
   "version": "3.6.6"
  }
 },
 "nbformat": 4,
 "nbformat_minor": 2
}
